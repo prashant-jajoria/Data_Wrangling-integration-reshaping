{
 "cells": [
  {
   "cell_type": "markdown",
   "metadata": {},
   "source": [
    "# FIT5196 Assessment 3\n",
    "\n",
    "#### Student Name: PRASHANT JAJORIA\n",
    "#### Student ID: 31187366\n",
    "\n",
    "Date: 18/11/2020\n",
    "\n",
    "Environment: Python 3.7.4 and Anaconda 4.8.4 (64-bit)\n",
    "\n",
    "Libraries used:\n",
    "1. **xmltodict** - for convertigng the XML data to a dictionary object, additional python package used for this task.\n",
    "2. **pandas** - for reading and writing CSV file, and manipulating Datafarme, included in Anaconda Python 3.7.4\n",
    "3. **json** - for reading JSON data format and storing as a dictionary, included in Anaconda Python 3.7.4\n",
    "4. **tabula** - for reading data stored in PDF files, additional python package used for this task.\n",
    "5. **re** - for regular expression, included in Anaconda Python 3.7.4\n",
    "6. **math** - for carrying out operations like pow,sin, cos, log, sqrt and radians, included in Anaconda Python 3.7.4\n",
    "7. **shapefile** - for reading shape file data format, additional python package used for this task.\n",
    "8. **shapely.geometry** - for plotting geometrical objects and shapes, additional python package used for this task.\n",
    "9. **datetime** - for validating date, included in Anaconda Python 3.7.4\n",
    "10. **matplotlib** - for visualizing data, included in Anaconda Python 3.7.4\n",
    "11. **numpy** - for arithmetic operations and calculations on arrays, included in Anaconda Python 3.7.4\n",
    "12. **bs4** - for reading the html files, additional python package used for this task.\n",
    "13. **codecs** - for defining the codec of files, included in Anaconda Python 3.7.4\n",
    "14. **sklearn** - for carrying out transformations like zscore.\n",
    "\n",
    "## Introduction\n",
    "The main goal of this assessment is Integrating data of different file formats to merge and combine them to make it easy readible. This merged data is used for different calculations to predict the values of other columns. Also, a number of different transformations and scaling techniques are carried out to make the data easily readible for Linear regression model.\n",
    "\n",
    "Following are the requirement of the task:\n",
    "1. Read and store data of different file formats.\n",
    "2. Integrate and merge data from different file formats.\n",
    "3. Carry out calculations to predict the values of other columns.\n",
    "4. Data scaling to remove the scales of different variables.\n",
    "5. Carry out different transformations to remove the skewness of data.\n",
    "6. Handling shape files to make points and polygons.\n",
    "\n",
    "A step by step explanation of completing the requirements will be explained in the following code cells."
   ]
  },
  {
   "cell_type": "markdown",
   "metadata": {},
   "source": [
    "# Task 1 : Data Integration"
   ]
  },
  {
   "cell_type": "markdown",
   "metadata": {},
   "source": [
    "## Import libraries"
   ]
  },
  {
   "cell_type": "code",
   "execution_count": 1,
   "metadata": {},
   "outputs": [],
   "source": [
    "import xmltodict\n",
    "import pandas as pd\n",
    "import json\n",
    "import tabula\n",
    "import re\n",
    "import math\n",
    "import shapefile\n",
    "from shapely.geometry import shape, Point\n",
    "from datetime import datetime\n",
    "from matplotlib import pyplot as plt\n",
    "import numpy as np\n",
    "from bs4 import BeautifulSoup\n",
    "import codecs\n",
    "from sklearn import preprocessing"
   ]
  },
  {
   "cell_type": "markdown",
   "metadata": {},
   "source": [
    "## Reading XML"
   ]
  },
  {
   "cell_type": "markdown",
   "metadata": {},
   "source": [
    "Reading the data from .xml file. The XML is not in correct format. So it is first cleaned and then converted to dictionary using `xmltodict` package."
   ]
  },
  {
   "cell_type": "code",
   "execution_count": 2,
   "metadata": {},
   "outputs": [],
   "source": [
    "file_read_state_xml = open(\"real_state.xml\", \"r\")\n",
    "str_file_read_state_xml = file_read_state_xml.read()\n",
    "\n",
    "# trim the file\n",
    "str_file_read_state_xml = str_file_read_state_xml[2:len(str_file_read_state_xml)-1]"
   ]
  },
  {
   "cell_type": "code",
   "execution_count": 3,
   "metadata": {},
   "outputs": [],
   "source": [
    "dict_real_state_xml = xmltodict.parse(str_file_read_state_xml)"
   ]
  },
  {
   "cell_type": "markdown",
   "metadata": {},
   "source": [
    "Make a dataframe to store all the values of the properties, hospitals, supermarkets, shopping centres and train stations."
   ]
  },
  {
   "cell_type": "code",
   "execution_count": 4,
   "metadata": {},
   "outputs": [],
   "source": [
    "lst_columns = [\"property_id\",\"lat\",\"lng\",\"addr_street\",\"price\",\"property_type\",\"year\",\"bedrooms\",\"bathrooms\",\"parking_space\"]\n",
    "\n",
    "df = pd.DataFrame(index=range(1003), columns=lst_columns)\n",
    "\n",
    "for col in lst_columns:\n",
    "    lst_data = []\n",
    "    \n",
    "    for node in dict_real_state_xml['root'][col]:\n",
    "        if type(dict_real_state_xml['root'][col][node]) != str:\n",
    "            lst_data.append(list(dict_real_state_xml['root'][col][node].items())[1][1])\n",
    "    df[col] = lst_data"
   ]
  },
  {
   "cell_type": "markdown",
   "metadata": {},
   "source": [
    "## Reading JSON"
   ]
  },
  {
   "cell_type": "markdown",
   "metadata": {},
   "source": [
    "Reading the real estate data from the JSON file and apending to the existing dataframe"
   ]
  },
  {
   "cell_type": "code",
   "execution_count": 5,
   "metadata": {},
   "outputs": [],
   "source": [
    "## read json\n",
    "with open(\"real_state.json\") as f:\n",
    "  data = json.load(f)"
   ]
  },
  {
   "cell_type": "code",
   "execution_count": 6,
   "metadata": {},
   "outputs": [],
   "source": [
    "for n in range(1010):\n",
    "    dict_property = {}\n",
    "    \n",
    "    for col in lst_columns:\n",
    "        dict_property[col] = data[n][col]\n",
    "    \n",
    "    df = df.append(dict_property,True)"
   ]
  },
  {
   "cell_type": "markdown",
   "metadata": {},
   "source": [
    "## Drop duplicate rows"
   ]
  },
  {
   "cell_type": "markdown",
   "metadata": {},
   "source": [
    "There are 5 rows which are completely duplicated. We drop those rows to remove redundant data."
   ]
  },
  {
   "cell_type": "code",
   "execution_count": 7,
   "metadata": {
    "scrolled": true
   },
   "outputs": [
    {
     "data": {
      "text/plain": [
       "(5, 10)"
      ]
     },
     "execution_count": 7,
     "metadata": {},
     "output_type": "execute_result"
    }
   ],
   "source": [
    "df[df.duplicated()].shape"
   ]
  },
  {
   "cell_type": "code",
   "execution_count": 8,
   "metadata": {},
   "outputs": [],
   "source": [
    "df.drop_duplicates(keep=\"first\",inplace=True)\n",
    "df.reset_index(drop=True, inplace=True)"
   ]
  },
  {
   "cell_type": "markdown",
   "metadata": {},
   "source": [
    "There are 29 rows where the properties have the same address. Removing those redundant rows."
   ]
  },
  {
   "cell_type": "code",
   "execution_count": 9,
   "metadata": {
    "scrolled": true
   },
   "outputs": [
    {
     "data": {
      "text/plain": [
       "(29, 10)"
      ]
     },
     "execution_count": 9,
     "metadata": {},
     "output_type": "execute_result"
    }
   ],
   "source": [
    "df[df.duplicated(['addr_street'])].shape"
   ]
  },
  {
   "cell_type": "code",
   "execution_count": 10,
   "metadata": {},
   "outputs": [],
   "source": [
    "df.drop_duplicates(subset=['addr_street'],keep=\"first\",inplace=True)\n",
    "df.reset_index(drop=True, inplace=True)"
   ]
  },
  {
   "cell_type": "markdown",
   "metadata": {},
   "source": [
    "## Reading PDF file - Shopping Centre"
   ]
  },
  {
   "cell_type": "markdown",
   "metadata": {},
   "source": [
    "To read the data of shoping centres from the PDF file, I used `tabula` pacakage. The `read_pdf` function reads all the pages of the file and the tables, storing the data in a dataframe."
   ]
  },
  {
   "cell_type": "code",
   "execution_count": 11,
   "metadata": {},
   "outputs": [],
   "source": [
    "tables = tabula.read_pdf(\"shopingcenters.pdf\", pages = \"all\", multiple_tables = True)"
   ]
  },
  {
   "cell_type": "code",
   "execution_count": 12,
   "metadata": {},
   "outputs": [],
   "source": [
    "df_shopping_centres = tables[0]\n",
    "df_shopping_centres = df_shopping_centres.append([tables[1],tables[2]],True)"
   ]
  },
  {
   "cell_type": "code",
   "execution_count": 13,
   "metadata": {},
   "outputs": [],
   "source": [
    "## drop the first column\n",
    "df_shopping_centres.drop([\"Unnamed: 0\"],inplace=True,axis=1)"
   ]
  },
  {
   "cell_type": "code",
   "execution_count": 14,
   "metadata": {},
   "outputs": [],
   "source": [
    "## make the shopping centre id as index\n",
    "df_shopping_centres.index = df_shopping_centres['sc_id']\n",
    "df_shopping_centres.drop([\"sc_id\"],axis=1,inplace=True)"
   ]
  },
  {
   "cell_type": "markdown",
   "metadata": {},
   "source": [
    "## Havershine"
   ]
  },
  {
   "cell_type": "markdown",
   "metadata": {},
   "source": [
    "Using the havershine formula to calculate the distance between the real estate and the shoping centres, hospitals, supermarkets and train stations."
   ]
  },
  {
   "cell_type": "code",
   "execution_count": 15,
   "metadata": {},
   "outputs": [],
   "source": [
    "'''\n",
    "Calculate distance using the Haversine Formula.\n",
    "\n",
    "Reference:\n",
    "https://community.esri.com/groups/coordinate-reference-systems/blog/2017/10/05/haversine-formula\n",
    "'''\n",
    "\n",
    "def haversine(coord1: object, coord2: object):\n",
    "\n",
    "    # Coordinates in decimal degrees (e.g. 2.89078, 12.79797)\n",
    "    lon1, lat1 = coord1\n",
    "    lon2, lat2 = coord2\n",
    "\n",
    "    R = 6378000  # radius of Earth in meters\n",
    "    phi_1 = math.radians(lat1)\n",
    "    phi_2 = math.radians(lat2)\n",
    "\n",
    "    delta_phi = math.radians(lat2 - lat1)\n",
    "    delta_lambda = math.radians(lon2 - lon1)\n",
    "\n",
    "    a = math.sin(delta_phi / 2.0) ** 2 + math.cos(phi_1) * math.cos(phi_2) * math.sin(delta_lambda / 2.0) ** 2\n",
    "    \n",
    "    c = 2 * math.atan2(math.sqrt(a), math.sqrt(1 - a))\n",
    "\n",
    "    meters = R * c  # output distance in meters\n",
    "    km = meters / 1000.0  # output distance in kilometers\n",
    "\n",
    "    meters = round(meters, 3)\n",
    "    km = round(km, 4)\n",
    "\n",
    "    return meters"
   ]
  },
  {
   "cell_type": "code",
   "execution_count": 16,
   "metadata": {},
   "outputs": [],
   "source": [
    "# prepare the data in Lat,Long form\n",
    "loc = df[['lat', 'lng']].apply(lambda x: ','.join(x.astype(str)), axis = 1)\n",
    "\n",
    "# df - property lat, long\n",
    "df_loc = pd.DataFrame(index = range(len(loc)), data = loc, columns = ['property_lat_long'])"
   ]
  },
  {
   "cell_type": "markdown",
   "metadata": {},
   "source": [
    "Defining a function to calculate the distance of real estate from all the shopping centres "
   ]
  },
  {
   "cell_type": "code",
   "execution_count": 17,
   "metadata": {},
   "outputs": [],
   "source": [
    "def cal_sc_dist(lat_long):\n",
    "    \n",
    "    # property location\n",
    "    lat_long = str(lat_long)\n",
    "    re_results = re.findall(r'(-?\\d+\\.-?\\d+)',lat_long)\n",
    "    \n",
    "    #print(re_results)\n",
    "    \n",
    "    prop_lat = float(re_results[0])\n",
    "    prop_long = float(re_results[1])\n",
    "    \n",
    "    dict_distance_from_sc = {}\n",
    "    \n",
    "    # calculate the distance from each of the shopping centres\n",
    "    for shopping_centre, location in df_shopping_centres.to_dict('index').items():\n",
    "        \n",
    "        # haversine() function needs 2 list containing Lat, Long   \n",
    "        distance_from_sc = haversine([location['lat'],location['lng']], [prop_lat,prop_long])\n",
    "        \n",
    "        # store results in a dict\n",
    "        dict_distance_from_sc[shopping_centre] = distance_from_sc\n",
    "        \n",
    "    #print(dict_distance_from_sc)\n",
    "    return dict_distance_from_sc"
   ]
  },
  {
   "cell_type": "markdown",
   "metadata": {},
   "source": [
    "Defining a function to get the data of the nearest shopping centres."
   ]
  },
  {
   "cell_type": "code",
   "execution_count": 18,
   "metadata": {},
   "outputs": [],
   "source": [
    "def get_nearest_sc(dict_distance_from_sc):\n",
    "    \n",
    "    # get the min distance\n",
    "    min_dist = min(dict_distance_from_sc.values())\n",
    "    \n",
    "    # get the id of shopping centre corresponding to min distance\n",
    "    nearest_sc = [ sc for sc, distance in dict_distance_from_sc.items() if distance == min_dist ]\n",
    "    \n",
    "    dict_nearest_sc = {}\n",
    "    \n",
    "    # dict of nearest sc name and distance\n",
    "    dict_nearest_sc[nearest_sc[0]] = min_dist\n",
    "    \n",
    "    return dict_nearest_sc"
   ]
  },
  {
   "cell_type": "markdown",
   "metadata": {},
   "source": [
    "Defining a function to get the distance of the real estate from the nearest shopping centres."
   ]
  },
  {
   "cell_type": "code",
   "execution_count": 19,
   "metadata": {},
   "outputs": [],
   "source": [
    "def get_nearest_sc_dist(dict_nearest_sc):\n",
    "    return round(list(dict_nearest_sc.values())[0])"
   ]
  },
  {
   "cell_type": "markdown",
   "metadata": {},
   "source": [
    "Defining a function to get the id of the nearest shopping centre from the real estate. "
   ]
  },
  {
   "cell_type": "code",
   "execution_count": 20,
   "metadata": {},
   "outputs": [],
   "source": [
    "def get_nearest_sc_id(dict_nearest_sc):\n",
    "    return list(dict_nearest_sc.keys())[0]"
   ]
  },
  {
   "cell_type": "markdown",
   "metadata": {},
   "source": [
    "Storing the closest shopping centre and the distance in the dataframe"
   ]
  },
  {
   "cell_type": "code",
   "execution_count": 21,
   "metadata": {},
   "outputs": [],
   "source": [
    "df['distance_to_sc'] = df_loc['property_lat_long'].apply(lambda x : get_nearest_sc_dist(get_nearest_sc(cal_sc_dist(x))))\n",
    "df['shopping_center_id'] = df_loc['property_lat_long'].apply(lambda x : get_nearest_sc_id(get_nearest_sc(cal_sc_dist(x))))"
   ]
  },
  {
   "cell_type": "markdown",
   "metadata": {},
   "source": [
    "## Train station - stops.txt"
   ]
  },
  {
   "cell_type": "markdown",
   "metadata": {},
   "source": [
    "Reading the data of train stations from `stops.txt` and storing in a dataframe."
   ]
  },
  {
   "cell_type": "code",
   "execution_count": 22,
   "metadata": {},
   "outputs": [],
   "source": [
    "df_train_station = pd.read_csv(\"stops.txt\")"
   ]
  },
  {
   "cell_type": "code",
   "execution_count": 23,
   "metadata": {},
   "outputs": [],
   "source": [
    "df_train_station.index = df_train_station['stop_id']"
   ]
  },
  {
   "cell_type": "markdown",
   "metadata": {},
   "source": [
    "Defining a function to calculate the distance of real estate from all the train stations."
   ]
  },
  {
   "cell_type": "code",
   "execution_count": 24,
   "metadata": {},
   "outputs": [],
   "source": [
    "def cal_train_station_dist(lat_long):\n",
    "    \n",
    "    # property location\n",
    "    lat_long = str(lat_long)\n",
    "    re_results = re.findall(r'(-?\\d+\\.-?\\d+)',lat_long)\n",
    "    \n",
    "    prop_lat = float(re_results[0])\n",
    "    prop_long = float(re_results[1])\n",
    "    \n",
    "    dict_distance_from_train_station = {}\n",
    "    \n",
    "    # calculate the distance from each of the Train station\n",
    "    for train_station_id, train_station_details in df_train_station.to_dict('index').items():\n",
    "        \n",
    "        # haversine() function needs 2 list containing Lat, Long   \n",
    "        distance_from_train_station = haversine([train_station_details['stop_lat'],train_station_details['stop_lon']], [prop_lat,prop_long])\n",
    "        \n",
    "        # store results in a dict\n",
    "        dict_distance_from_train_station[train_station_id] = distance_from_train_station\n",
    "        \n",
    "    #print(dict_distance_from_train_station)\n",
    "    return dict_distance_from_train_station"
   ]
  },
  {
   "cell_type": "markdown",
   "metadata": {},
   "source": [
    "Defining a function to get the data of the nearest train station."
   ]
  },
  {
   "cell_type": "code",
   "execution_count": 25,
   "metadata": {},
   "outputs": [],
   "source": [
    "def get_nearest_train_station(dict_distance_from_train_station):\n",
    "    \n",
    "    # get the min distance\n",
    "    min_dist = min(dict_distance_from_train_station.values())\n",
    "    \n",
    "    # get the id of train station corresponding to min distance\n",
    "    nearest_train_station = [ train_st_id for train_st_id, distance in dict_distance_from_train_station.items() if distance == min_dist ]\n",
    "    \n",
    "    dict_nearest_train_st = {}\n",
    "    \n",
    "    # dict of nearest sc name and distance\n",
    "    dict_nearest_train_st[nearest_train_station[0]] = min_dist\n",
    "    \n",
    "    return dict_nearest_train_st"
   ]
  },
  {
   "cell_type": "markdown",
   "metadata": {},
   "source": [
    "Defining a function to get the distance of the real estate from the nearest train station"
   ]
  },
  {
   "cell_type": "code",
   "execution_count": 26,
   "metadata": {},
   "outputs": [],
   "source": [
    "def get_nearest_train_station_dist(dict_distance_from_train_station):\n",
    "    return round(list(dict_distance_from_train_station.values())[0])"
   ]
  },
  {
   "cell_type": "markdown",
   "metadata": {},
   "source": [
    "Defining a function to get the id of the nearest train station from the real estate. "
   ]
  },
  {
   "cell_type": "code",
   "execution_count": 27,
   "metadata": {},
   "outputs": [],
   "source": [
    "def get_nearest_train_station_id(dict_distance_from_train_station):\n",
    "    return list(dict_distance_from_train_station.keys())[0]"
   ]
  },
  {
   "cell_type": "markdown",
   "metadata": {},
   "source": [
    "Storing the closest train station  from the real estate and the distance in the dataframe"
   ]
  },
  {
   "cell_type": "code",
   "execution_count": 28,
   "metadata": {},
   "outputs": [],
   "source": [
    "df['train_station_id'] = df_loc['property_lat_long'].apply(lambda x : get_nearest_train_station_id(get_nearest_train_station(cal_train_station_dist(x))))\n",
    "df['distance_to_train_station'] = df_loc['property_lat_long'].apply(lambda x : get_nearest_train_station_dist(get_nearest_train_station(cal_train_station_dist(x))))"
   ]
  },
  {
   "cell_type": "markdown",
   "metadata": {},
   "source": [
    "## Hospitals - CSV"
   ]
  },
  {
   "cell_type": "markdown",
   "metadata": {},
   "source": [
    "Reading the data of hospitals from the excel file and storing it in a dataframe"
   ]
  },
  {
   "cell_type": "code",
   "execution_count": 29,
   "metadata": {},
   "outputs": [],
   "source": [
    "df_hospitals = pd.read_excel('hospitals.xlsx')\n",
    "df_hospitals.index = df_hospitals['id']\n",
    "df_hospitals.drop(['Unnamed: 0','id'],axis=1,inplace=True)"
   ]
  },
  {
   "cell_type": "markdown",
   "metadata": {},
   "source": [
    "Defining a function to calculate the distance of real estate from all the hospitals."
   ]
  },
  {
   "cell_type": "code",
   "execution_count": 30,
   "metadata": {},
   "outputs": [],
   "source": [
    "def cal_hospital_dist(lat_long):\n",
    "    \n",
    "    # property location\n",
    "    lat_long = str(lat_long)\n",
    "    re_results = re.findall(r'(-?\\d+\\.-?\\d+)',lat_long)\n",
    "    \n",
    "    prop_lat = float(re_results[0])\n",
    "    prop_long = float(re_results[1])\n",
    "    \n",
    "    dict_distance_from_hospitals = {}\n",
    "    \n",
    "    # calculate the distance from each of the Hospitals\n",
    "    for hospital_id, hospital_details in df_hospitals.to_dict('index').items():\n",
    "        \n",
    "        # haversine() function needs 2 list containing Lat, Long   \n",
    "        distance_from_hospital = haversine([hospital_details['lat'],hospital_details['lng']], [prop_lat,prop_long])\n",
    "        \n",
    "        # store results in a dict\n",
    "        dict_distance_from_hospitals[hospital_id] = distance_from_hospital\n",
    "        \n",
    "    #print(dict_distance_from_train_station)\n",
    "    return dict_distance_from_hospitals"
   ]
  },
  {
   "cell_type": "markdown",
   "metadata": {},
   "source": [
    "Defining a function to get the data of the nearest hospital for a property."
   ]
  },
  {
   "cell_type": "code",
   "execution_count": 31,
   "metadata": {},
   "outputs": [],
   "source": [
    "def get_nearest_hospital(dict_distance_from_hospitals):\n",
    "    \n",
    "    # get the min distance\n",
    "    min_dist = min(dict_distance_from_hospitals.values())\n",
    "    \n",
    "    # get the id of train station corresponding to min distance\n",
    "    nearest_hospital_id = [ hospital_id for hospital_id, distance in dict_distance_from_hospitals.items() if distance == min_dist ]\n",
    "    \n",
    "    dict_nearest_hopsital = {}\n",
    "    \n",
    "    # dict of nearest hospital name and distance\n",
    "    dict_nearest_hopsital[nearest_hospital_id[0]] = min_dist\n",
    "    \n",
    "    return dict_nearest_hopsital"
   ]
  },
  {
   "cell_type": "markdown",
   "metadata": {},
   "source": [
    "Defining a function to get the distance of the nearest hospital for a property."
   ]
  },
  {
   "cell_type": "code",
   "execution_count": 32,
   "metadata": {},
   "outputs": [],
   "source": [
    "def get_nearest_hospital_dist(dict_nearest_hopsital):\n",
    "    return list(dict_nearest_hopsital.values())[0]"
   ]
  },
  {
   "cell_type": "markdown",
   "metadata": {},
   "source": [
    "Defining a function to get the ID of the nearest hospital for a property."
   ]
  },
  {
   "cell_type": "code",
   "execution_count": 33,
   "metadata": {},
   "outputs": [],
   "source": [
    "def get_nearest_hospital_id(dict_nearest_hopsital):\n",
    "    return list(dict_nearest_hopsital.keys())[0]"
   ]
  },
  {
   "cell_type": "code",
   "execution_count": 34,
   "metadata": {},
   "outputs": [],
   "source": [
    "df['hospital_id'] = df_loc['property_lat_long'].apply(lambda x : get_nearest_hospital_id(get_nearest_hospital(cal_hospital_dist(x))))\n",
    "df['distance_to_hospital'] = df_loc['property_lat_long'].apply(lambda x : get_nearest_hospital_dist(get_nearest_hospital(cal_hospital_dist(x))))"
   ]
  },
  {
   "cell_type": "markdown",
   "metadata": {},
   "source": [
    "# Supermarkets.html"
   ]
  },
  {
   "cell_type": "markdown",
   "metadata": {},
   "source": [
    "Reading the supermarkets data from the `html` file using the `codecs` and `BeautifulSoup` package"
   ]
  },
  {
   "cell_type": "code",
   "execution_count": 35,
   "metadata": {},
   "outputs": [],
   "source": [
    "file = codecs.open(\"supermarkets.html\", \"r\", \"utf-8\")\n",
    "soup = BeautifulSoup(file.read(), 'lxml')"
   ]
  },
  {
   "cell_type": "markdown",
   "metadata": {},
   "source": [
    "Extracting the data from each of the table row of the HTML"
   ]
  },
  {
   "cell_type": "code",
   "execution_count": 36,
   "metadata": {},
   "outputs": [],
   "source": [
    "lst_supermarket_ids = []\n",
    "lst_supermarket_lat = []\n",
    "lst_supermarket_lng = []\n",
    "lst_supermarket_type = []\n",
    "\n",
    "for tag in soup.find_all('tr'):\n",
    "    x = tag.find_all('td')\n",
    "    \n",
    "    if len(x) > 1:\n",
    "        lst_supermarket_ids.append(x[0].text)\n",
    "        lst_supermarket_lat.append(x[1].text)\n",
    "        lst_supermarket_lng.append(x[2].text)\n",
    "        lst_supermarket_type.append(x[3].text)"
   ]
  },
  {
   "cell_type": "markdown",
   "metadata": {},
   "source": [
    "Storing the data of supermarket in a dataframe"
   ]
  },
  {
   "cell_type": "code",
   "execution_count": 37,
   "metadata": {},
   "outputs": [],
   "source": [
    "df_supermarkets = pd.DataFrame(index=range(len(lst_supermarket_ids)), columns=['supermarket_id','supermarket_lat','supermarket_lng','supermarket_type'])"
   ]
  },
  {
   "cell_type": "code",
   "execution_count": 38,
   "metadata": {},
   "outputs": [],
   "source": [
    "df_supermarkets['supermarket_id'] = lst_supermarket_ids\n",
    "df_supermarkets['supermarket_lat'] = lst_supermarket_lat\n",
    "df_supermarkets['supermarket_lng'] = lst_supermarket_lng\n",
    "df_supermarkets['supermarket_type'] = lst_supermarket_type"
   ]
  },
  {
   "cell_type": "code",
   "execution_count": 39,
   "metadata": {},
   "outputs": [],
   "source": [
    "df_supermarkets.index = df_supermarkets['supermarket_id']\n",
    "df_supermarkets.drop(['supermarket_id'],axis=1,inplace=True)"
   ]
  },
  {
   "cell_type": "markdown",
   "metadata": {},
   "source": [
    "Defining a function to calculate the distance of real estate from all the supermarkets."
   ]
  },
  {
   "cell_type": "code",
   "execution_count": 40,
   "metadata": {},
   "outputs": [],
   "source": [
    "def cal_supermarkets_dist(lat_long):\n",
    "    \n",
    "    # property location\n",
    "    lat_long = str(lat_long)\n",
    "    re_results = re.findall(r'(-?\\d+\\.-?\\d+)',lat_long)\n",
    "    \n",
    "    prop_lat = float(re_results[0])\n",
    "    prop_long = float(re_results[1])\n",
    "    \n",
    "    dict_distance_from_supermarkets = {}\n",
    "    \n",
    "    # calculate the distance from each of the Supermarkets\n",
    "    for supermarkets_id, supermarkets_details in df_supermarkets.to_dict('index').items():\n",
    "        \n",
    "        # haversine() function needs 2 list containing Lat, Long   \n",
    "        distance_from_supermarket = haversine([float(supermarkets_details['supermarket_lat']),float(supermarkets_details['supermarket_lng'])], [prop_lat,prop_long])\n",
    "        \n",
    "        # store results in a dict\n",
    "        dict_distance_from_supermarkets[supermarkets_id] = distance_from_supermarket\n",
    "        \n",
    "    #print(dict_distance_from_train_station)\n",
    "    return dict_distance_from_supermarkets"
   ]
  },
  {
   "cell_type": "markdown",
   "metadata": {},
   "source": [
    "Defining a function to get the data of the nearest supermarket for a real estate."
   ]
  },
  {
   "cell_type": "code",
   "execution_count": 41,
   "metadata": {},
   "outputs": [],
   "source": [
    "def get_nearest_supermarket(dict_distance_from_supermarkets):\n",
    "    \n",
    "    # get the min distance\n",
    "    min_dist = min(dict_distance_from_supermarkets.values())\n",
    "    \n",
    "    # get the id of supermarket corresponding to min distance\n",
    "    nearest_supermarket_id = [ supermarket_id for supermarket_id, distance in dict_distance_from_supermarkets.items() if distance == min_dist ]\n",
    "    \n",
    "    dict_nearest_supermarket = {}\n",
    "    \n",
    "    # dict of nearest hospital name and distance\n",
    "    dict_nearest_supermarket[nearest_supermarket_id[0]] = min_dist\n",
    "    \n",
    "    return dict_nearest_supermarket"
   ]
  },
  {
   "cell_type": "markdown",
   "metadata": {},
   "source": [
    "Defining a function to get the distance of the nearest supermarket for a real estate."
   ]
  },
  {
   "cell_type": "code",
   "execution_count": 42,
   "metadata": {},
   "outputs": [],
   "source": [
    "def get_nearest_supermarket_dist(dict_nearest_supermarket):\n",
    "    return list(dict_nearest_supermarket.values())[0]"
   ]
  },
  {
   "cell_type": "markdown",
   "metadata": {},
   "source": [
    "Defining a function to get the ID of the nearest supermarket for a real estate."
   ]
  },
  {
   "cell_type": "code",
   "execution_count": 43,
   "metadata": {},
   "outputs": [],
   "source": [
    "def get_nearest_supermarket_id(dict_nearest_supermarket):\n",
    "    return list(dict_nearest_supermarket.keys())[0]"
   ]
  },
  {
   "cell_type": "markdown",
   "metadata": {},
   "source": [
    "Storing the distance of the nearest supermarket and the ID in the main dataframe"
   ]
  },
  {
   "cell_type": "code",
   "execution_count": 44,
   "metadata": {},
   "outputs": [],
   "source": [
    "df['distance_to_supermarket'] = df_loc['property_lat_long'].apply(lambda x : get_nearest_supermarket_dist(get_nearest_supermarket(cal_supermarkets_dist(x))))\n",
    "df['supermarket_id'] = df_loc['property_lat_long'].apply(lambda x : get_nearest_supermarket_id(get_nearest_supermarket(cal_supermarkets_dist(x))))"
   ]
  },
  {
   "cell_type": "markdown",
   "metadata": {},
   "source": [
    "# Shape Files"
   ]
  },
  {
   "cell_type": "code",
   "execution_count": 45,
   "metadata": {},
   "outputs": [],
   "source": [
    "sf = shapefile.Reader(\"./vic_suburb_boundary/VIC_LOCALITY_POLYGON_shp\")\n",
    "\n",
    "# list of records of each suburb\n",
    "recs = sf.records()\n",
    "# list of shapes of each suburb\n",
    "shapes = sf.shapes()  "
   ]
  },
  {
   "cell_type": "markdown",
   "metadata": {},
   "source": [
    "Defining a function to get the suburb name given the latitude and longitude of the real estate."
   ]
  },
  {
   "cell_type": "code",
   "execution_count": 46,
   "metadata": {},
   "outputs": [],
   "source": [
    "def get_suburb(lat_long):\n",
    "    \n",
    "    # to get the suburb details\n",
    "    index = 0\n",
    "    \n",
    "    # property location\n",
    "    lat_long = str(lat_long)\n",
    "    re_results = re.findall(r'(-?\\d+\\.-?\\d+)',lat_long)\n",
    "    \n",
    "    prop_lat = float(re_results[0])\n",
    "    prop_long = float(re_results[1])\n",
    "    \n",
    "    point = Point(prop_long,prop_lat)\n",
    "    \n",
    "    for s in shapes:\n",
    "        polygon = shape(s)\n",
    "        \n",
    "        if polygon.contains(point):\n",
    "            return recs[index][6]\n",
    "        else:\n",
    "            index = index + 1\n",
    "    \n",
    "    return \"not available\""
   ]
  },
  {
   "cell_type": "markdown",
   "metadata": {},
   "source": [
    "Storing the suburb name in the main dataframe"
   ]
  },
  {
   "cell_type": "code",
   "execution_count": 47,
   "metadata": {},
   "outputs": [],
   "source": [
    "df['suburb'] = df_loc['property_lat_long'].apply(lambda x : get_suburb(x))"
   ]
  },
  {
   "cell_type": "markdown",
   "metadata": {},
   "source": [
    "# Avergae time to CBD"
   ]
  },
  {
   "cell_type": "markdown",
   "metadata": {},
   "source": [
    "Reading the Station data and the trips from the GTFS files."
   ]
  },
  {
   "cell_type": "code",
   "execution_count": 48,
   "metadata": {},
   "outputs": [],
   "source": [
    "df_stop_times = pd.read_csv(\"stop_times.txt\")\n",
    "df_trips = pd.read_csv(\"trips.txt\")"
   ]
  },
  {
   "cell_type": "markdown",
   "metadata": {},
   "source": [
    "As both the trips and the stop times have `trip_id` in common, we merge the data on this column."
   ]
  },
  {
   "cell_type": "markdown",
   "metadata": {},
   "source": [
    "`T0` is the only train service that runs on all the weekdays. So we filter the data based on this service ID."
   ]
  },
  {
   "cell_type": "code",
   "execution_count": 49,
   "metadata": {},
   "outputs": [],
   "source": [
    "df1 = pd.merge(df_trips,df_stop_times,\"inner\",on=[\"trip_id\"])\n",
    "df_t0 = df1[df1['service_id']=='T0']"
   ]
  },
  {
   "cell_type": "markdown",
   "metadata": {},
   "source": [
    "Function to get the `trip_id` of the trips that leave between 7:00 am and 9:00 pm from the nearest train station and going to Flinders street."
   ]
  },
  {
   "cell_type": "code",
   "execution_count": 50,
   "metadata": {},
   "outputs": [],
   "source": [
    "def get_trip_id(stop_id):\n",
    "    min_departure_time = \"07:00:00\"\n",
    "    max_departure_time = \"09:00:00\"\n",
    "    trip_headsign = \"City (Flinders Street)\"\n",
    "    \n",
    "    # Fliter for given station\n",
    "    df3 = df_t0[df_t0['stop_id']==stop_id]\n",
    "    \n",
    "    df_trips=df3[(df3['departure_time']>=min_departure_time)&(df3['departure_time']<=max_departure_time)&(df3['trip_headsign']==trip_headsign)]\n",
    "    \n",
    "    # return only the trip IDs\n",
    "    return list(df_trips['trip_id'])"
   ]
  },
  {
   "cell_type": "markdown",
   "metadata": {},
   "source": [
    "Given the trip_id and the stop_id, we calculate the trip duration from the nearest station to Flinders street."
   ]
  },
  {
   "cell_type": "code",
   "execution_count": 51,
   "metadata": {},
   "outputs": [],
   "source": [
    "def get_trip_duration(stop_id,trip_id):\n",
    "    df = df_stop_times[df_stop_times['trip_id'] == trip_id]\n",
    "    \n",
    "    start_stop_seq = df[df['stop_id']==stop_id]['stop_sequence']\n",
    "    end_stop_seq = df[df['stop_id']==19854]['stop_sequence']\n",
    "    \n",
    "    start_stop_seq = int(list(start_stop_seq)[0])\n",
    "    end_stop_seq = int(list(end_stop_seq)[0])\n",
    "    \n",
    "    #start_time = df[(df['stop_sequence'] == start_stop_seq)]['arrival_time']\n",
    "    \n",
    "    start_time = df[(df['stop_sequence'] == start_stop_seq)]['departure_time']\n",
    "    end_time = df[(df['stop_sequence'] == end_stop_seq)]['arrival_time']\n",
    "    \n",
    "    start_time = str(list(start_time)[0])\n",
    "    end_time = str(list(end_time)[0])\n",
    "    \n",
    "    start_time = datetime.strptime(start_time, '%H:%M:%S')\n",
    "    end_time = datetime.strptime(end_time, '%H:%M:%S')\n",
    "    \n",
    "    if str(end_time-start_time)[2:4] != ' d':\n",
    "        return float(str(end_time-start_time)[2:4])\n",
    "    else:\n",
    "        return float(str(start_time)[2:4])\n",
    "    \n",
    "    return float(str(end_time-start_time)[2:4])"
   ]
  },
  {
   "cell_type": "markdown",
   "metadata": {},
   "source": [
    "As we have a number of trips that depart from the nearest station to Flinders street between 7:00am to 9:00am on all weekdays, we average out the time"
   ]
  },
  {
   "cell_type": "code",
   "execution_count": 52,
   "metadata": {},
   "outputs": [],
   "source": [
    "def get_average_time_to_CBD(stop_id):\n",
    "    sum = 0\n",
    "    \n",
    "    lst_trips = get_trip_id(stop_id)\n",
    "    \n",
    "    for trip_id in lst_trips:\n",
    "        sum = sum + get_trip_duration(stop_id,trip_id)\n",
    "    \n",
    "    if len(lst_trips) != 0:\n",
    "        avg = sum/len(lst_trips)\n",
    "        return round(avg)\n",
    "    else:\n",
    "        return 0"
   ]
  },
  {
   "cell_type": "markdown",
   "metadata": {},
   "source": [
    "Fill the dataframe with the average travel time to CBD"
   ]
  },
  {
   "cell_type": "code",
   "execution_count": 53,
   "metadata": {},
   "outputs": [],
   "source": [
    "df['travel_min_to_CBD'] = df['train_station_id'].apply(lambda x : get_average_time_to_CBD(x))"
   ]
  },
  {
   "cell_type": "markdown",
   "metadata": {},
   "source": [
    "For real estates that have no direct trains to CBD, the travel time is 0. So we use this condition to fill the transfer flag."
   ]
  },
  {
   "cell_type": "code",
   "execution_count": 54,
   "metadata": {},
   "outputs": [],
   "source": [
    "def fill_transfer_flag(travel_time_to_CBD):\n",
    "    if travel_time_to_CBD == 0:\n",
    "        return 1\n",
    "    else:\n",
    "        return 0"
   ]
  },
  {
   "cell_type": "code",
   "execution_count": 55,
   "metadata": {},
   "outputs": [],
   "source": [
    "df['transfer_flag'] = df['travel_min_to_CBD'].apply(lambda x : fill_transfer_flag(x))"
   ]
  },
  {
   "cell_type": "markdown",
   "metadata": {},
   "source": [
    "This property has the nearest station as Flinders street and the transfer flag is 1, which is incorrect."
   ]
  },
  {
   "cell_type": "code",
   "execution_count": 56,
   "metadata": {
    "scrolled": true
   },
   "outputs": [
    {
     "data": {
      "text/html": [
       "<div>\n",
       "<style scoped>\n",
       "    .dataframe tbody tr th:only-of-type {\n",
       "        vertical-align: middle;\n",
       "    }\n",
       "\n",
       "    .dataframe tbody tr th {\n",
       "        vertical-align: top;\n",
       "    }\n",
       "\n",
       "    .dataframe thead th {\n",
       "        text-align: right;\n",
       "    }\n",
       "</style>\n",
       "<table border=\"1\" class=\"dataframe\">\n",
       "  <thead>\n",
       "    <tr style=\"text-align: right;\">\n",
       "      <th></th>\n",
       "      <th>property_id</th>\n",
       "      <th>lat</th>\n",
       "      <th>lng</th>\n",
       "      <th>addr_street</th>\n",
       "      <th>price</th>\n",
       "      <th>property_type</th>\n",
       "      <th>year</th>\n",
       "      <th>bedrooms</th>\n",
       "      <th>bathrooms</th>\n",
       "      <th>parking_space</th>\n",
       "      <th>...</th>\n",
       "      <th>shopping_center_id</th>\n",
       "      <th>train_station_id</th>\n",
       "      <th>distance_to_train_station</th>\n",
       "      <th>hospital_id</th>\n",
       "      <th>distance_to_hospital</th>\n",
       "      <th>distance_to_supermarket</th>\n",
       "      <th>supermarket_id</th>\n",
       "      <th>suburb</th>\n",
       "      <th>travel_min_to_CBD</th>\n",
       "      <th>transfer_flag</th>\n",
       "    </tr>\n",
       "  </thead>\n",
       "  <tbody>\n",
       "    <tr>\n",
       "      <th>1189</th>\n",
       "      <td>36</td>\n",
       "      <td>-37.8206</td>\n",
       "      <td>144.968</td>\n",
       "      <td>43/28 Southgate Ave</td>\n",
       "      <td>3000000</td>\n",
       "      <td>house</td>\n",
       "      <td>2011</td>\n",
       "      <td>3</td>\n",
       "      <td>2</td>\n",
       "      <td>1</td>\n",
       "      <td>...</td>\n",
       "      <td>SC_106</td>\n",
       "      <td>19854</td>\n",
       "      <td>227</td>\n",
       "      <td>hospital_022</td>\n",
       "      <td>501.562</td>\n",
       "      <td>366.13</td>\n",
       "      <td>S_063</td>\n",
       "      <td>SOUTHBANK</td>\n",
       "      <td>0</td>\n",
       "      <td>1</td>\n",
       "    </tr>\n",
       "  </tbody>\n",
       "</table>\n",
       "<p>1 rows × 21 columns</p>\n",
       "</div>"
      ],
      "text/plain": [
       "     property_id      lat      lng          addr_street    price  \\\n",
       "1189          36 -37.8206  144.968  43/28 Southgate Ave  3000000   \n",
       "\n",
       "     property_type  year bedrooms bathrooms parking_space  ...  \\\n",
       "1189         house  2011        3         2             1  ...   \n",
       "\n",
       "      shopping_center_id train_station_id  distance_to_train_station  \\\n",
       "1189              SC_106            19854                        227   \n",
       "\n",
       "       hospital_id distance_to_hospital  distance_to_supermarket  \\\n",
       "1189  hospital_022              501.562                   366.13   \n",
       "\n",
       "      supermarket_id     suburb travel_min_to_CBD  transfer_flag  \n",
       "1189           S_063  SOUTHBANK                 0              1  \n",
       "\n",
       "[1 rows x 21 columns]"
      ]
     },
     "execution_count": 56,
     "metadata": {},
     "output_type": "execute_result"
    }
   ],
   "source": [
    "df[(df['transfer_flag']==1)&(df['train_station_id']==19854)]"
   ]
  },
  {
   "cell_type": "markdown",
   "metadata": {},
   "source": [
    "Correcting the transfer flag for this property."
   ]
  },
  {
   "cell_type": "code",
   "execution_count": 57,
   "metadata": {},
   "outputs": [],
   "source": [
    "index = df[(df['transfer_flag']==1)&(df['train_station_id']==19854)].index\n",
    "df.loc[index, 'transfer_flag'] = 0"
   ]
  },
  {
   "cell_type": "markdown",
   "metadata": {},
   "source": [
    "Exporting the final data to a CSV file."
   ]
  },
  {
   "cell_type": "code",
   "execution_count": null,
   "metadata": {},
   "outputs": [],
   "source": [
    "#df.to_csv('31187366_A3_solution.csv',index=False)"
   ]
  },
  {
   "cell_type": "code",
   "execution_count": 58,
   "metadata": {},
   "outputs": [],
   "source": [
    "df.to_csv('31187366_A3_solution_changed_time.csv',index=False)"
   ]
  },
  {
   "cell_type": "markdown",
   "metadata": {},
   "source": [
    "# Task 2: data reshaping"
   ]
  },
  {
   "cell_type": "markdown",
   "metadata": {},
   "source": [
    "For this task we check the shape of the data before any transformations to see if the data is normaly distributed or skewed.\n",
    "\n",
    "In case of skewed data we apply suitable transformations to make it normal."
   ]
  },
  {
   "cell_type": "markdown",
   "metadata": {},
   "source": [
    "## Before transformations"
   ]
  },
  {
   "cell_type": "markdown",
   "metadata": {},
   "source": [
    "Looking at the histogram we can say that `travel_min_to_CBD` data is not normally distributed. Its a little skewed towards the left."
   ]
  },
  {
   "cell_type": "code",
   "execution_count": 83,
   "metadata": {
    "scrolled": true
   },
   "outputs": [
    {
     "data": {
      "text/plain": [
       "<matplotlib.axes._subplots.AxesSubplot at 0x2530a99bf88>"
      ]
     },
     "execution_count": 83,
     "metadata": {},
     "output_type": "execute_result"
    },
    {
     "data": {
      "image/png": "[encoded data removed]",
      "text/plain": [
       "<Figure size 432x288 with 1 Axes>"
      ]
     },
     "metadata": {
      "needs_background": "light"
     },
     "output_type": "display_data"
    }
   ],
   "source": [
    "df['travel_min_to_CBD'].hist(bins=30)"
   ]
  },
  {
   "cell_type": "markdown",
   "metadata": {},
   "source": [
    "Similarly, looking at the histogram we can say that `distance_to_sc` data is not normally distributed. Its a little skewed towards the right."
   ]
  },
  {
   "cell_type": "code",
   "execution_count": 84,
   "metadata": {
    "scrolled": false
   },
   "outputs": [
    {
     "data": {
      "text/plain": [
       "<matplotlib.axes._subplots.AxesSubplot at 0x2530a9d7f08>"
      ]
     },
     "execution_count": 84,
     "metadata": {},
     "output_type": "execute_result"
    },
    {
     "data": {
      "image/png": "[encoded data removed]",
      "text/plain": [
       "<Figure size 432x288 with 1 Axes>"
      ]
     },
     "metadata": {
      "needs_background": "light"
     },
     "output_type": "display_data"
    }
   ],
   "source": [
    "df['distance_to_sc'].hist(bins=30)"
   ]
  },
  {
   "cell_type": "markdown",
   "metadata": {},
   "source": [
    "`distance_to_hospital` data is skewed towards the right, as can be observed from the histogram below"
   ]
  },
  {
   "cell_type": "code",
   "execution_count": 85,
   "metadata": {
    "scrolled": true
   },
   "outputs": [
    {
     "data": {
      "text/plain": [
       "<matplotlib.axes._subplots.AxesSubplot at 0x2530aa438c8>"
      ]
     },
     "execution_count": 85,
     "metadata": {},
     "output_type": "execute_result"
    },
    {
     "data": {
      "image/png": "[encoded data removed]",
      "text/plain": [
       "<Figure size 432x288 with 1 Axes>"
      ]
     },
     "metadata": {
      "needs_background": "light"
     },
     "output_type": "display_data"
    }
   ],
   "source": [
    "df['distance_to_hospital'].hist(bins=30)"
   ]
  },
  {
   "cell_type": "markdown",
   "metadata": {},
   "source": [
    "`price` data is skewed towards the right, as can be observed from the histogram below."
   ]
  },
  {
   "cell_type": "code",
   "execution_count": 86,
   "metadata": {
    "scrolled": true
   },
   "outputs": [],
   "source": [
    "#df['price'].hist(bins=30)"
   ]
  },
  {
   "cell_type": "markdown",
   "metadata": {},
   "source": [
    "## Finding the most suitable transformation"
   ]
  },
  {
   "cell_type": "markdown",
   "metadata": {},
   "source": [
    "## Log transformation"
   ]
  },
  {
   "cell_type": "markdown",
   "metadata": {},
   "source": [
    "As we had observed from the histograms above, the data for `distance_to_hospital`, `distance_to_sc` and `price` are right skewed. So, Log transformation is a good option to penalize the large values which can help reduce the right skewness."
   ]
  },
  {
   "cell_type": "code",
   "execution_count": 87,
   "metadata": {},
   "outputs": [],
   "source": [
    "df['log(distance_to_sc)'] = None\n",
    "df['log(price)'] = None\n",
    "df['log(distance_to_hospital)'] = None\n",
    "df['log(travel_min_to_CBD)'] = None\n",
    "i = 0\n",
    "\n",
    "for row in df.iterrows():\n",
    "    df['log(distance_to_sc)'].at[i] = math.log(df[\"distance_to_sc\"][i])\n",
    "    df['log(price)'].at[i] = math.log(float(df[\"price\"][i]))\n",
    "    df['log(distance_to_hospital)'].at[i] = math.log(df[\"distance_to_hospital\"][i])\n",
    "    df['log(travel_min_to_CBD)'].at[i] = math.log(df[\"travel_min_to_CBD\"][i]+0.00001) ## in case of 0 travel time\n",
    "    i += 1"
   ]
  },
  {
   "cell_type": "code",
   "execution_count": 88,
   "metadata": {},
   "outputs": [
    {
     "data": {
      "text/plain": [
       "<matplotlib.axes._subplots.AxesSubplot at 0x2530aaef648>"
      ]
     },
     "execution_count": 88,
     "metadata": {},
     "output_type": "execute_result"
    },
    {
     "data": {
      "image/png": "[encoded data removed]",
      "text/plain": [
       "<Figure size 432x288 with 1 Axes>"
      ]
     },
     "metadata": {
      "needs_background": "light"
     },
     "output_type": "display_data"
    }
   ],
   "source": [
    "df['log(distance_to_sc)'].hist(bins=30)"
   ]
  },
  {
   "cell_type": "code",
   "execution_count": 89,
   "metadata": {},
   "outputs": [
    {
     "data": {
      "text/plain": [
       "<matplotlib.axes._subplots.AxesSubplot at 0x2530a933588>"
      ]
     },
     "execution_count": 89,
     "metadata": {},
     "output_type": "execute_result"
    },
    {
     "data": {
      "image/png": "[encoded data removed]",
      "text/plain": [
       "<Figure size 432x288 with 1 Axes>"
      ]
     },
     "metadata": {
      "needs_background": "light"
     },
     "output_type": "display_data"
    }
   ],
   "source": [
    "df['log(price)'].hist(bins=30)"
   ]
  },
  {
   "cell_type": "code",
   "execution_count": 90,
   "metadata": {},
   "outputs": [
    {
     "data": {
      "text/plain": [
       "<matplotlib.axes._subplots.AxesSubplot at 0x25309bd5108>"
      ]
     },
     "execution_count": 90,
     "metadata": {},
     "output_type": "execute_result"
    },
    {
     "data": {
      "image/png": "[encoded data removed]",
      "text/plain": [
       "<Figure size 432x288 with 1 Axes>"
      ]
     },
     "metadata": {
      "needs_background": "light"
     },
     "output_type": "display_data"
    }
   ],
   "source": [
    "df['log(distance_to_hospital)'].hist(bins=30)"
   ]
  },
  {
   "cell_type": "code",
   "execution_count": 91,
   "metadata": {},
   "outputs": [
    {
     "data": {
      "text/plain": [
       "<matplotlib.axes._subplots.AxesSubplot at 0x2530ad96188>"
      ]
     },
     "execution_count": 91,
     "metadata": {},
     "output_type": "execute_result"
    },
    {
     "data": {
      "image/png": "[encoded data removed]",
      "text/plain": [
       "<Figure size 432x288 with 1 Axes>"
      ]
     },
     "metadata": {
      "needs_background": "light"
     },
     "output_type": "display_data"
    }
   ],
   "source": [
    "df['log(travel_min_to_CBD)'].hist(bins=30)"
   ]
  },
  {
   "cell_type": "markdown",
   "metadata": {},
   "source": [
    "Looking at the above 4 histograms, we can see that only the histogram of `price` has improved after the log transformation and the plot looks more normaly distributed. This makes log transformation suitable for price column. "
   ]
  },
  {
   "cell_type": "markdown",
   "metadata": {},
   "source": [
    "## Square root transformation"
   ]
  },
  {
   "cell_type": "markdown",
   "metadata": {},
   "source": [
    "Another suitable transformation for helping reduce the right skewness of data is square root transformation. Similar to log transformation it penalize the large values which can help reduce the right skewness of `distance_to_hospital`, `distance_to_sc` and `price`."
   ]
  },
  {
   "cell_type": "code",
   "execution_count": 92,
   "metadata": {},
   "outputs": [],
   "source": [
    "df['sqrt(distance_to_sc)'] = None\n",
    "df['sqrt(price)'] = None\n",
    "df['sqrt(distance_to_hospital)'] = None\n",
    "df['sqrt(travel_min_to_CBD)'] = None\n",
    "i = 0\n",
    "\n",
    "for row in df.iterrows():\n",
    "    df['sqrt(distance_to_sc)'].at[i] = math.sqrt(df[\"distance_to_sc\"][i])\n",
    "    df['sqrt(price)'].at[i] = math.sqrt(df[\"price\"][i])\n",
    "    df['sqrt(distance_to_hospital)'].at[i] = math.sqrt(df[\"distance_to_hospital\"][i])\n",
    "    df['sqrt(travel_min_to_CBD)'].at[i] = math.sqrt(df[\"travel_min_to_CBD\"][i]+0.00001) # for 0 value\n",
    "    i += 1"
   ]
  },
  {
   "cell_type": "code",
   "execution_count": 93,
   "metadata": {},
   "outputs": [
    {
     "data": {
      "text/plain": [
       "<matplotlib.axes._subplots.AxesSubplot at 0x2530af06688>"
      ]
     },
     "execution_count": 93,
     "metadata": {},
     "output_type": "execute_result"
    },
    {
     "data": {
      "image/png": "[encoded data removed]",
      "text/plain": [
       "<Figure size 432x288 with 1 Axes>"
      ]
     },
     "metadata": {
      "needs_background": "light"
     },
     "output_type": "display_data"
    }
   ],
   "source": [
    "df['sqrt(distance_to_sc)'].hist(bins=30)"
   ]
  },
  {
   "cell_type": "code",
   "execution_count": 94,
   "metadata": {},
   "outputs": [
    {
     "data": {
      "text/plain": [
       "<matplotlib.axes._subplots.AxesSubplot at 0x2530aef2648>"
      ]
     },
     "execution_count": 94,
     "metadata": {},
     "output_type": "execute_result"
    },
    {
     "data": {
      "image/png": "[encoded data removed]",
      "text/plain": [
       "<Figure size 432x288 with 1 Axes>"
      ]
     },
     "metadata": {
      "needs_background": "light"
     },
     "output_type": "display_data"
    }
   ],
   "source": [
    "df['sqrt(price)'].hist(bins=30)"
   ]
  },
  {
   "cell_type": "code",
   "execution_count": 95,
   "metadata": {},
   "outputs": [
    {
     "data": {
      "text/plain": [
       "<matplotlib.axes._subplots.AxesSubplot at 0x2530af22d08>"
      ]
     },
     "execution_count": 95,
     "metadata": {},
     "output_type": "execute_result"
    },
    {
     "data": {
      "image/png": "[encoded data removed]",
      "text/plain": [
       "<Figure size 432x288 with 1 Axes>"
      ]
     },
     "metadata": {
      "needs_background": "light"
     },
     "output_type": "display_data"
    }
   ],
   "source": [
    "df['sqrt(distance_to_hospital)'].hist(bins=30)"
   ]
  },
  {
   "cell_type": "code",
   "execution_count": 96,
   "metadata": {},
   "outputs": [
    {
     "data": {
      "text/plain": [
       "<matplotlib.axes._subplots.AxesSubplot at 0x2530b0d7a88>"
      ]
     },
     "execution_count": 96,
     "metadata": {},
     "output_type": "execute_result"
    },
    {
     "data": {
      "image/png": "[encoded data removed]",
      "text/plain": [
       "<Figure size 432x288 with 1 Axes>"
      ]
     },
     "metadata": {
      "needs_background": "light"
     },
     "output_type": "display_data"
    }
   ],
   "source": [
    "df['sqrt(travel_min_to_CBD)'].hist(bins=30)"
   ]
  },
  {
   "cell_type": "markdown",
   "metadata": {},
   "source": [
    "Looking at the above 4 histograms, we can see that the histogram of `distance_to_sc` and `distance_to_hospital` has improved after the square root transformation and the plot looks normally distributed. This makes square root transformation suitable for `distance_to_sc` and `distance_to_hospital` column. "
   ]
  },
  {
   "cell_type": "markdown",
   "metadata": {},
   "source": [
    "## Power transformation"
   ]
  },
  {
   "cell_type": "markdown",
   "metadata": {},
   "source": [
    "The data of `travel_min_to_CBD` is left skewed as we have seen from the histogram before. For this the data on the left needs to be increased. So for this, we apply power transformation to reduce the left skewness of `travel_min_to_CBD`.\n",
    "\n",
    "A power of 1.23 gives a better distributed data for `travel_min_to_CBD`."
   ]
  },
  {
   "cell_type": "code",
   "execution_count": 97,
   "metadata": {},
   "outputs": [],
   "source": [
    "df['power(travel_min_to_CBD)'] = None\n",
    "i = 0\n",
    "\n",
    "for row in df.iterrows():\n",
    "    df['power(travel_min_to_CBD)'].at[i] = df[\"travel_min_to_CBD\"][i]**(1.23)\n",
    "    \n",
    "    i += 1"
   ]
  },
  {
   "cell_type": "code",
   "execution_count": 98,
   "metadata": {},
   "outputs": [
    {
     "data": {
      "text/plain": [
       "<matplotlib.axes._subplots.AxesSubplot at 0x2530b0db1c8>"
      ]
     },
     "execution_count": 98,
     "metadata": {},
     "output_type": "execute_result"
    },
    {
     "data": {
      "image/png": "[encoded data removed]",
      "text/plain": [
       "<Figure size 432x288 with 1 Axes>"
      ]
     },
     "metadata": {
      "needs_background": "light"
     },
     "output_type": "display_data"
    }
   ],
   "source": [
    "df['power(travel_min_to_CBD)'].hist(bins=30)"
   ]
  },
  {
   "cell_type": "markdown",
   "metadata": {},
   "source": [
    "## Scaling of data"
   ]
  },
  {
   "cell_type": "markdown",
   "metadata": {},
   "source": [
    "After we find the suitable transformations for each of the column, we scale the data to remove the different scales of each of the columns.\n",
    "\n",
    "This helps in better interpretting the Linear model and the importance of each of the column on the model."
   ]
  },
  {
   "cell_type": "code",
   "execution_count": 99,
   "metadata": {},
   "outputs": [],
   "source": [
    "# applying the z score transformation on the transformed data\n",
    "std_scale = preprocessing.StandardScaler().fit(df[['power(travel_min_to_CBD)', 'sqrt(distance_to_sc)','sqrt(distance_to_hospital)','log(price)']])\n",
    "df_std = std_scale.transform(df[['power(travel_min_to_CBD)', 'sqrt(distance_to_sc)','sqrt(distance_to_hospital)','log(price)']]) # an array not a df"
   ]
  },
  {
   "cell_type": "code",
   "execution_count": 100,
   "metadata": {},
   "outputs": [],
   "source": [
    "travel_min_to_CBD = []\n",
    "distance_to_sc = []\n",
    "distance_to_hospital = []\n",
    "price = []\n",
    "\n",
    "for x in df_std:\n",
    "    travel_min_to_CBD.append(x[0])\n",
    "    distance_to_sc.append(x[1])\n",
    "    distance_to_hospital.append(x[2])\n",
    "    price.append(x[3])"
   ]
  },
  {
   "cell_type": "markdown",
   "metadata": {},
   "source": [
    "## Final plot after scaling"
   ]
  },
  {
   "cell_type": "markdown",
   "metadata": {},
   "source": [
    "After applying square root transformation to `distance_to_sc`, `distance_to_hospital` and log transformation to `price` and power transformation to `travel_min_to_CBD`, we plot the final histograms of the scaled values.\n",
    "\n",
    "We can observe that the data is better and looks more normal than before after the transformations."
   ]
  },
  {
   "cell_type": "code",
   "execution_count": 101,
   "metadata": {
    "scrolled": true
   },
   "outputs": [
    {
     "data": {
      "text/plain": [
       "(array([  1.,   1.,   0.,   2.,   1.,   3.,   9.,  15.,  30.,  51.,  73.,\n",
       "        110., 125., 164., 167., 176., 176., 177., 159., 118., 125.,  86.,\n",
       "         46.,  49.,  42.,  22.,  25.,  16.,   6.,   4.]),\n",
       " array([-3.78835356, -3.5592637 , -3.33017384, -3.10108398, -2.87199412,\n",
       "        -2.64290427, -2.41381441, -2.18472455, -1.95563469, -1.72654483,\n",
       "        -1.49745497, -1.26836511, -1.03927525, -0.81018539, -0.58109553,\n",
       "        -0.35200567, -0.12291581,  0.10617405,  0.33526391,  0.56435377,\n",
       "         0.79344363,  1.02253349,  1.25162335,  1.48071321,  1.70980307,\n",
       "         1.93889293,  2.16798279,  2.39707265,  2.62616251,  2.85525237,\n",
       "         3.08434223]),\n",
       " <a list of 30 Patch objects>)"
      ]
     },
     "execution_count": 101,
     "metadata": {},
     "output_type": "execute_result"
    },
    {
     "data": {
      "image/png": "[encoded data removed]",
      "text/plain": [
       "<Figure size 432x288 with 1 Axes>"
      ]
     },
     "metadata": {
      "needs_background": "light"
     },
     "output_type": "display_data"
    }
   ],
   "source": [
    "plt.hist(price, bins=30)"
   ]
  },
  {
   "cell_type": "code",
   "execution_count": 102,
   "metadata": {
    "scrolled": true
   },
   "outputs": [
    {
     "data": {
      "text/plain": [
       "(array([  1.,  12.,  16.,  11.,  29.,  42.,  54.,  34., 100., 116.,  77.,\n",
       "         74.,  34., 118., 105.,  32., 126., 116.,  77., 168., 138.,   4.,\n",
       "         98.,   0., 162.,  21.,  92.,  39.,  25.,  58.]),\n",
       " array([-2.45127571, -2.30383314, -2.15639057, -2.008948  , -1.86150543,\n",
       "        -1.71406287, -1.5666203 , -1.41917773, -1.27173516, -1.12429259,\n",
       "        -0.97685002, -0.82940745, -0.68196489, -0.53452232, -0.38707975,\n",
       "        -0.23963718, -0.09219461,  0.05524796,  0.20269052,  0.35013309,\n",
       "         0.49757566,  0.64501823,  0.7924608 ,  0.93990337,  1.08734593,\n",
       "         1.2347885 ,  1.38223107,  1.52967364,  1.67711621,  1.82455878,\n",
       "         1.97200135]),\n",
       " <a list of 30 Patch objects>)"
      ]
     },
     "execution_count": 102,
     "metadata": {},
     "output_type": "execute_result"
    },
    {
     "data": {
      "image/png": "[encoded data removed]",
      "text/plain": [
       "<Figure size 432x288 with 1 Axes>"
      ]
     },
     "metadata": {
      "needs_background": "light"
     },
     "output_type": "display_data"
    }
   ],
   "source": [
    "plt.hist(travel_min_to_CBD, bins=30)"
   ]
  },
  {
   "cell_type": "code",
   "execution_count": 103,
   "metadata": {},
   "outputs": [
    {
     "data": {
      "text/plain": [
       "(array([  4.,   4.,   7.,  15.,  25.,  34.,  40.,  57.,  73.,  99.,  99.,\n",
       "        118., 113., 147., 136., 144.,  92., 111., 114.,  96., 108.,  85.,\n",
       "         81.,  59.,  32.,  31.,  23.,   8.,  17.,   7.]),\n",
       " array([-2.74853724, -2.56968662, -2.39083599, -2.21198536, -2.03313474,\n",
       "        -1.85428411, -1.67543348, -1.49658286, -1.31773223, -1.13888161,\n",
       "        -0.96003098, -0.78118035, -0.60232973, -0.4234791 , -0.24462848,\n",
       "        -0.06577785,  0.11307278,  0.2919234 ,  0.47077403,  0.64962466,\n",
       "         0.82847528,  1.00732591,  1.18617653,  1.36502716,  1.54387779,\n",
       "         1.72272841,  1.90157904,  2.08042966,  2.25928029,  2.43813092,\n",
       "         2.61698154]),\n",
       " <a list of 30 Patch objects>)"
      ]
     },
     "execution_count": 103,
     "metadata": {},
     "output_type": "execute_result"
    },
    {
     "data": {
      "image/png": "[encoded data removed]",
      "text/plain": [
       "<Figure size 432x288 with 1 Axes>"
      ]
     },
     "metadata": {
      "needs_background": "light"
     },
     "output_type": "display_data"
    }
   ],
   "source": [
    "plt.hist(distance_to_sc, bins=30)"
   ]
  },
  {
   "cell_type": "code",
   "execution_count": 104,
   "metadata": {},
   "outputs": [
    {
     "data": {
      "text/plain": [
       "(array([  4.,   7.,  15.,  40.,  49.,  72.,  91., 112., 155., 159., 141.,\n",
       "        180., 142., 138., 115.,  89.,  79.,  69.,  43.,  44.,  42.,  37.,\n",
       "         37.,  32.,  28.,  23.,  13.,   9.,   8.,   6.]),\n",
       " array([-2.2673219 , -2.08774618, -1.90817046, -1.72859474, -1.54901902,\n",
       "        -1.3694433 , -1.18986758, -1.01029186, -0.83071614, -0.65114042,\n",
       "        -0.4715647 , -0.29198898, -0.11241326,  0.06716246,  0.24673818,\n",
       "         0.4263139 ,  0.60588962,  0.78546534,  0.96504106,  1.14461678,\n",
       "         1.3241925 ,  1.50376822,  1.68334394,  1.86291966,  2.04249538,\n",
       "         2.2220711 ,  2.40164682,  2.58122254,  2.76079826,  2.94037398,\n",
       "         3.1199497 ]),\n",
       " <a list of 30 Patch objects>)"
      ]
     },
     "execution_count": 104,
     "metadata": {},
     "output_type": "execute_result"
    },
    {
     "data": {
      "image/png": "[encoded data removed]",
      "text/plain": [
       "<Figure size 432x288 with 1 Axes>"
      ]
     },
     "metadata": {
      "needs_background": "light"
     },
     "output_type": "display_data"
    }
   ],
   "source": [
    "plt.hist(distance_to_hospital, bins=30)"
   ]
  },
  {
   "cell_type": "markdown",
   "metadata": {},
   "source": [
    "# Summary\n",
    "This assessment helps to build up the knowledge of Data Integration and reshaping. It imparts the knowledge of different transformations and rescaling techniques that are helpful in preparing data for machine learning models. The main objective achieved from this assessment are as follows:\n",
    "\n",
    "- **Data Integration** - Reading different format of data and merging it to get the final dataframe for machine learning model.\n",
    "\n",
    "- **Data Reshaping and scaling** - Data rescaling is useful for making the features independent of thier scales. This increased the readibility of data and the machine learning models.  \n",
    "\n",
    "- **Manipulating Python Data structures and Pandas DataFrames**: For successful completion of this task knowledge of manipulating and operating on Dataframes was fundamental. The main functions used for data frame manipulation were `apply`, `zip`, `filter`, `dropna`, `isna`, `notna`, `replace`, `unique` etc. \n",
    "\n",
    "- **Visualizing Data**: Using `matplotlib` to plot the histograms of various columns to check for normality.\n",
    "\n",
    "- **Formulating Regular Expressions** : Developing Regular expression to capture the latitude and longitude.\n",
    "\n",
    "- **Using Date module**: To help validate the order date, the python `date` module was helpful. \n",
    "\n",
    "- **Export CSV files** : Using the pandas `to_csv` function, it was possible to export the rectified Dataframe to CSV files."
   ]
  },
  {
   "cell_type": "markdown",
   "metadata": {},
   "source": [
    "# References"
   ]
  },
  {
   "cell_type": "markdown",
   "metadata": {},
   "source": [
    "codecs — Codec registry and base classes — Python 3.9.0 documentation. (2020). Retrieved 18 November 2020, from https://docs.python.org/3/library/codecs.html\n",
    "\n",
    "Tabula: Extract Tables from PDFs. (2020). Retrieved 18 November 2020, from https://tabula.technology/\n",
    "\n",
    "xmltodict. (2020). Retrieved 18 November 2020, from https://pypi.org/project/xmltodict/\n",
    "\n",
    "Reference  |  Static Transit  |  Google Developers. (2020). Retrieved 18 November 2020, from https://developers.google.com/transit/gtfs/reference#tripstxt\n",
    "\n",
    "Datasets. (2020). Retrieved 18 November 2020, from https://www.ptv.vic.gov.au/footer/data-and-reporting/datasets/\n",
    "\n",
    "Distance on a sphere: The Haversine Formula. (2020). Retrieved 18 November 2020, from https://community.esri.com/groups/coordinate-reference-systems/blog/2017/10/05/haversine-formula"
   ]
  }
 ],
 "metadata": {
  "kernelspec": {
   "display_name": "Python 3",
   "language": "python",
   "name": "python3"
  },
  "language_info": {
   "codemirror_mode": {
    "name": "ipython",
    "version": 3
   },
   "file_extension": ".py",
   "mimetype": "text/x-python",
   "name": "python",
   "nbconvert_exporter": "python",
   "pygments_lexer": "ipython3",
   "version": "3.7.4"
  }
 },
 "nbformat": 4,
 "nbformat_minor": 2
}
